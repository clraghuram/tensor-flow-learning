{
  "nbformat": 4,
  "nbformat_minor": 0,
  "metadata": {
    "colab": {
      "provenance": [],
      "collapsed_sections": [],
      "authorship_tag": "ABX9TyPZIM87gE6VNvMB5N9QHzP4",
      "include_colab_link": true
    },
    "kernelspec": {
      "name": "python3",
      "display_name": "Python 3"
    },
    "language_info": {
      "name": "python"
    }
  },
  "cells": [
    {
      "cell_type": "markdown",
      "metadata": {
        "id": "view-in-github",
        "colab_type": "text"
      },
      "source": [
        "<a href=\"https://colab.research.google.com/github/clraghuram/tensor-flow-learning/blob/main/TensorFlowLearning.ipynb\" target=\"_parent\"><img src=\"https://colab.research.google.com/assets/colab-badge.svg\" alt=\"Open In Colab\"/></a>"
      ]
    },
    {
      "cell_type": "code",
      "execution_count": 1,
      "metadata": {
        "id": "jOAc9w_W6skq"
      },
      "outputs": [],
      "source": [
        "import tensorflow as tf\n",
        "import numpy as np"
      ]
    },
    {
      "cell_type": "code",
      "source": [
        "print('Using Tensor flow version', tf.__version__)"
      ],
      "metadata": {
        "colab": {
          "base_uri": "https://localhost:8080/"
        },
        "id": "uVymWXx17Ahq",
        "outputId": "6948a8cc-bd80-45c7-b10c-c72c025ec0f0"
      },
      "execution_count": 2,
      "outputs": [
        {
          "output_type": "stream",
          "name": "stdout",
          "text": [
            "Using Tensor flow version 2.8.2\n"
          ]
        }
      ]
    },
    {
      "cell_type": "markdown",
      "source": [
        "tf.__version__\n",
        "In case another version is present,uninstall the current version and reinstall version 2.2.0\n",
        "\n",
        "pip uninstall tensorflow\n",
        "\n",
        "pip install tensorflow==2.2.0\n"
      ],
      "metadata": {
        "id": "Xf1quGuR7ZgZ"
      }
    },
    {
      "cell_type": "code",
      "source": [
        "vector_tf = tf.constant([0,1,2,3,4])\n",
        "\n",
        "vector_np = np.array([0,1,2,3,4])\n",
        "\n",
        "print(\"Shapes\", vector_tf.shape, vector_np.shape)"
      ],
      "metadata": {
        "colab": {
          "base_uri": "https://localhost:8080/"
        },
        "id": "6nTt6WPt7LAg",
        "outputId": "7d72dc2b-962a-4e4e-bcb1-ac3950b14b38"
      },
      "execution_count": 3,
      "outputs": [
        {
          "output_type": "stream",
          "name": "stdout",
          "text": [
            "Shapes (5,) (5,)\n"
          ]
        }
      ]
    },
    {
      "cell_type": "code",
      "source": [
        "# 2-d\n",
        "t2_tf = tf.constant([[0,1],[2,3],[4,5]]*5)\n",
        "\n",
        "t2_np = np.array([[0,1],[2,3],[4,5]]*5)\n",
        "\n",
        "print(\"Shapes\", t2_tf.shape, t2_np.shape)"
      ],
      "metadata": {
        "colab": {
          "base_uri": "https://localhost:8080/"
        },
        "id": "vDveawnh8bS7",
        "outputId": "72099595-d408-4300-9f66-dc78d8e314a6"
      },
      "execution_count": 4,
      "outputs": [
        {
          "output_type": "stream",
          "name": "stdout",
          "text": [
            "Shapes (15, 2) (15, 2)\n"
          ]
        }
      ]
    },
    {
      "cell_type": "code",
      "source": [
        "# 3-d\n",
        "t3_tf = tf.constant([[[0,1],[2,3],[4,5]]]*5)\n",
        "\n",
        "t3_np = np.array([[[0,1],[2,3],[4,5]]]*5)\n",
        "\n",
        "print(\"Shapes\", t3_tf.shape, t3_np.shape)"
      ],
      "metadata": {
        "colab": {
          "base_uri": "https://localhost:8080/"
        },
        "id": "WPDzcIfr8AXc",
        "outputId": "b390fa36-9494-4257-abc9-078592a949c8"
      },
      "execution_count": 5,
      "outputs": [
        {
          "output_type": "stream",
          "name": "stdout",
          "text": [
            "Shapes (5, 3, 2) (5, 3, 2)\n"
          ]
        }
      ]
    },
    {
      "cell_type": "code",
      "source": [
        "## Two types of Variable Declarations\n",
        "const_tensor = tf.constant([[1,2,3],[4,5,6]])\n",
        "var_tensor = tf.Variable([[1,2,3],[4,5,6]])"
      ],
      "metadata": {
        "id": "cECTD_NnAs7j"
      },
      "execution_count": 6,
      "outputs": []
    },
    {
      "cell_type": "code",
      "source": [
        "t3_tf"
      ],
      "metadata": {
        "id": "lydl3tJy8rdE",
        "outputId": "4778f7c1-05fa-4e7b-8847-06708c569cff",
        "colab": {
          "base_uri": "https://localhost:8080/"
        }
      },
      "execution_count": 7,
      "outputs": [
        {
          "output_type": "execute_result",
          "data": {
            "text/plain": [
              "<tf.Tensor: shape=(5, 3, 2), dtype=int32, numpy=\n",
              "array([[[0, 1],\n",
              "        [2, 3],\n",
              "        [4, 5]],\n",
              "\n",
              "       [[0, 1],\n",
              "        [2, 3],\n",
              "        [4, 5]],\n",
              "\n",
              "       [[0, 1],\n",
              "        [2, 3],\n",
              "        [4, 5]],\n",
              "\n",
              "       [[0, 1],\n",
              "        [2, 3],\n",
              "        [4, 5]],\n",
              "\n",
              "       [[0, 1],\n",
              "        [2, 3],\n",
              "        [4, 5]]], dtype=int32)>"
            ]
          },
          "metadata": {},
          "execution_count": 7
        }
      ]
    },
    {
      "cell_type": "code",
      "source": [
        "var2_tensor = tf.add(var_tensor,var_tensor)"
      ],
      "metadata": {
        "id": "FpPxayw9PsOb"
      },
      "execution_count": 8,
      "outputs": []
    },
    {
      "cell_type": "code",
      "source": [
        "var2_tensor"
      ],
      "metadata": {
        "id": "8BfevdY9P0Bp",
        "outputId": "3f2f1164-c819-4d11-c50a-a136a3ca3500",
        "colab": {
          "base_uri": "https://localhost:8080/"
        }
      },
      "execution_count": 9,
      "outputs": [
        {
          "output_type": "execute_result",
          "data": {
            "text/plain": [
              "<tf.Tensor: shape=(2, 3), dtype=int32, numpy=\n",
              "array([[ 2,  4,  6],\n",
              "       [ 8, 10, 12]], dtype=int32)>"
            ]
          },
          "metadata": {},
          "execution_count": 9
        }
      ]
    },
    {
      "cell_type": "code",
      "source": [
        "x = tf.Variable([list(range(5))]*5)\n",
        "y =  tf.Variable([list(range(5,10))]*5)"
      ],
      "metadata": {
        "id": "-NF0U-dIRJFB"
      },
      "execution_count": 10,
      "outputs": []
    },
    {
      "cell_type": "code",
      "source": [
        "z = x+y\n",
        "\n",
        "print(z)"
      ],
      "metadata": {
        "id": "e7w5P4khRlEe"
      },
      "execution_count": null,
      "outputs": []
    },
    {
      "cell_type": "code",
      "source": [
        "w = x*y\n",
        "\n",
        "print(w)"
      ],
      "metadata": {
        "id": "FC4Uq2XrRpkg"
      },
      "execution_count": null,
      "outputs": []
    },
    {
      "cell_type": "code",
      "source": [
        "v = y/x\n",
        "\n",
        "print(v)"
      ],
      "metadata": {
        "id": "BqMb2-7kRs1G"
      },
      "execution_count": null,
      "outputs": []
    }
  ]
}