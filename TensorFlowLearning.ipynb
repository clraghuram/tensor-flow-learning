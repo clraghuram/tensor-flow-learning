{
  "nbformat": 4,
  "nbformat_minor": 0,
  "metadata": {
    "colab": {
      "provenance": [],
      "collapsed_sections": [],
      "authorship_tag": "ABX9TyPKzYzgoZXdhcWtyc1hn6ov",
      "include_colab_link": true
    },
    "kernelspec": {
      "name": "python3",
      "display_name": "Python 3"
    },
    "language_info": {
      "name": "python"
    }
  },
  "cells": [
    {
      "cell_type": "markdown",
      "metadata": {
        "id": "view-in-github",
        "colab_type": "text"
      },
      "source": [
        "<a href=\"https://colab.research.google.com/github/clraghuram/tensor-flow-learning/blob/main/TensorFlowLearning.ipynb\" target=\"_parent\"><img src=\"https://colab.research.google.com/assets/colab-badge.svg\" alt=\"Open In Colab\"/></a>"
      ]
    },
    {
      "cell_type": "code",
      "execution_count": null,
      "metadata": {
        "id": "jOAc9w_W6skq"
      },
      "outputs": [],
      "source": [
        "import tensorflow as tf\n",
        "import numpy as np"
      ]
    },
    {
      "cell_type": "code",
      "source": [
        "print('Using Tensor flow version', tf.__version__)"
      ],
      "metadata": {
        "colab": {
          "base_uri": "https://localhost:8080/"
        },
        "id": "uVymWXx17Ahq",
        "outputId": "64df41fc-c4b2-4817-a56e-8eb1b0527956"
      },
      "execution_count": null,
      "outputs": [
        {
          "output_type": "stream",
          "name": "stdout",
          "text": [
            "Using Tensor flow version 2.8.2\n"
          ]
        }
      ]
    },
    {
      "cell_type": "markdown",
      "source": [
        "tf.__version__\n",
        "In case another version is present,uninstall the current version and reinstall version 2.2.0\n",
        "\n",
        "pip uninstall tensorflow\n",
        "\n",
        "pip install tensorflow==2.2.0\n"
      ],
      "metadata": {
        "id": "Xf1quGuR7ZgZ"
      }
    },
    {
      "cell_type": "code",
      "source": [
        "vector_tf = tf.constant([0,1,2,3,4])\n",
        "\n",
        "vector_np = np.array([0,1,2,3,4])\n",
        "\n",
        "print(\"Shapes\", vector_tf.shape, vector_np.shape)"
      ],
      "metadata": {
        "colab": {
          "base_uri": "https://localhost:8080/"
        },
        "id": "6nTt6WPt7LAg",
        "outputId": "d0e4cb2d-4bff-4db6-9826-6b192b1e1b97"
      },
      "execution_count": null,
      "outputs": [
        {
          "output_type": "stream",
          "name": "stdout",
          "text": [
            "Shapes (5,) (5,)\n"
          ]
        }
      ]
    },
    {
      "cell_type": "code",
      "source": [
        "# 2-d\n",
        "t2_tf = tf.constant([[0,1],[2,3],[4,5]]*5)\n",
        "\n",
        "t2_np = np.array([[0,1],[2,3],[4,5]]*5)\n",
        "\n",
        "print(\"Shapes\", t2_tf.shape, t2_np.shape)"
      ],
      "metadata": {
        "colab": {
          "base_uri": "https://localhost:8080/"
        },
        "id": "vDveawnh8bS7",
        "outputId": "c6df0dcb-a435-47a1-92d7-cfc97bb6a3c3"
      },
      "execution_count": null,
      "outputs": [
        {
          "output_type": "stream",
          "name": "stdout",
          "text": [
            "Shapes (15, 2) (15, 2)\n"
          ]
        }
      ]
    },
    {
      "cell_type": "code",
      "source": [
        "# 3-d\n",
        "t3_tf = tf.constant([[[0,1],[2,3],[4,5]]]*5)\n",
        "\n",
        "t3_np = np.array([[[0,1],[2,3],[4,5]]]*5)\n",
        "\n",
        "print(\"Shapes\", t3_tf.shape, t3_np.shape)"
      ],
      "metadata": {
        "colab": {
          "base_uri": "https://localhost:8080/"
        },
        "id": "WPDzcIfr8AXc",
        "outputId": "2e6fdbd3-a597-4a28-f068-fb113904d967"
      },
      "execution_count": null,
      "outputs": [
        {
          "output_type": "stream",
          "name": "stdout",
          "text": [
            "Shapes (5, 3, 2) (5, 3, 2)\n"
          ]
        }
      ]
    },
    {
      "cell_type": "code",
      "source": [
        "t3_tf"
      ],
      "metadata": {
        "id": "lydl3tJy8rdE",
        "outputId": "21362526-0fe1-47ad-a2bd-c172763a1999",
        "colab": {
          "base_uri": "https://localhost:8080/"
        }
      },
      "execution_count": null,
      "outputs": [
        {
          "output_type": "execute_result",
          "data": {
            "text/plain": [
              "<tf.Tensor: shape=(5, 3, 2), dtype=int32, numpy=\n",
              "array([[[0, 1],\n",
              "        [2, 3],\n",
              "        [4, 5]],\n",
              "\n",
              "       [[0, 1],\n",
              "        [2, 3],\n",
              "        [4, 5]],\n",
              "\n",
              "       [[0, 1],\n",
              "        [2, 3],\n",
              "        [4, 5]],\n",
              "\n",
              "       [[0, 1],\n",
              "        [2, 3],\n",
              "        [4, 5]],\n",
              "\n",
              "       [[0, 1],\n",
              "        [2, 3],\n",
              "        [4, 5]]], dtype=int32)>"
            ]
          },
          "metadata": {},
          "execution_count": 8
        }
      ]
    }
  ]
}