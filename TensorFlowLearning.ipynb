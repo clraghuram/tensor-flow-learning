{
  "nbformat": 4,
  "nbformat_minor": 0,
  "metadata": {
    "colab": {
      "provenance": [],
      "collapsed_sections": [],
      "authorship_tag": "ABX9TyOc2KaO2UT26NuRZihI8Af7",
      "include_colab_link": true
    },
    "kernelspec": {
      "name": "python3",
      "display_name": "Python 3"
    },
    "language_info": {
      "name": "python"
    }
  },
  "cells": [
    {
      "cell_type": "markdown",
      "metadata": {
        "id": "view-in-github",
        "colab_type": "text"
      },
      "source": [
        "<a href=\"https://colab.research.google.com/github/clraghuram/tensor-flow-learning/blob/main/TensorFlowLearning.ipynb\" target=\"_parent\"><img src=\"https://colab.research.google.com/assets/colab-badge.svg\" alt=\"Open In Colab\"/></a>"
      ]
    },
    {
      "cell_type": "code",
      "execution_count": 3,
      "metadata": {
        "id": "jOAc9w_W6skq"
      },
      "outputs": [],
      "source": [
        "import tensorflow as tf\n",
        "import numpy as np"
      ]
    },
    {
      "cell_type": "code",
      "source": [
        "print('Using Tensor flow version', tf.__version__)"
      ],
      "metadata": {
        "colab": {
          "base_uri": "https://localhost:8080/"
        },
        "id": "uVymWXx17Ahq",
        "outputId": "e2d7576a-9fbb-422e-f84c-c1b8a6bfbea0"
      },
      "execution_count": 4,
      "outputs": [
        {
          "output_type": "stream",
          "name": "stdout",
          "text": [
            "Using Tensor flow version 2.8.2\n"
          ]
        }
      ]
    },
    {
      "cell_type": "markdown",
      "source": [
        "tf.__version__\n",
        "In case another version is present,uninstall the current version and reinstall version 2.2.0\n",
        "\n",
        "pip uninstall tensorflow\n",
        "\n",
        "pip install tensorflow==2.2.0\n"
      ],
      "metadata": {
        "id": "Xf1quGuR7ZgZ"
      }
    },
    {
      "cell_type": "code",
      "source": [
        "vector_tf = tf.constant([0,1,2,3,4])\n",
        "\n",
        "vector_np = np.array([0,1,2,3,4])\n",
        "\n",
        "print(\"Shapes\", vector_tf.shape, vector_np.shape)"
      ],
      "metadata": {
        "colab": {
          "base_uri": "https://localhost:8080/"
        },
        "id": "6nTt6WPt7LAg",
        "outputId": "eefd1bd8-5542-4af8-ac94-54525d1f2773"
      },
      "execution_count": 5,
      "outputs": [
        {
          "output_type": "stream",
          "name": "stdout",
          "text": [
            "Shapes (5,) (5,)\n"
          ]
        }
      ]
    },
    {
      "cell_type": "code",
      "source": [
        "# 2-d\n",
        "t2_tf = tf.constant([[0,1],[2,3],[4,5]]*5)\n",
        "\n",
        "t2_np = np.array([[0,1],[2,3],[4,5]]*5)\n",
        "\n",
        "print(\"Shapes\", t2_tf.shape, t2_np.shape)"
      ],
      "metadata": {
        "colab": {
          "base_uri": "https://localhost:8080/"
        },
        "id": "vDveawnh8bS7",
        "outputId": "6df6fb20-0c60-41b4-f8d7-f1013a60f7b3"
      },
      "execution_count": 6,
      "outputs": [
        {
          "output_type": "stream",
          "name": "stdout",
          "text": [
            "Shapes (15, 2) (15, 2)\n"
          ]
        }
      ]
    },
    {
      "cell_type": "code",
      "source": [
        "# 3-d\n",
        "t3_tf = tf.constant([[[0,1],[2,3],[4,5]]]*5)\n",
        "\n",
        "t3_np = np.array([[[0,1],[2,3],[4,5]]]*5)\n",
        "\n",
        "print(\"Shapes\", t3_tf.shape, t3_np.shape)"
      ],
      "metadata": {
        "colab": {
          "base_uri": "https://localhost:8080/"
        },
        "id": "WPDzcIfr8AXc",
        "outputId": "3a1ae0b1-b785-43d4-c248-33eb9fb13e7e"
      },
      "execution_count": 7,
      "outputs": [
        {
          "output_type": "stream",
          "name": "stdout",
          "text": [
            "Shapes (5, 3, 2) (5, 3, 2)\n"
          ]
        }
      ]
    },
    {
      "cell_type": "code",
      "source": [
        "t3_tf"
      ],
      "metadata": {
        "id": "lydl3tJy8rdE",
        "outputId": "d3bb882d-27f3-4e81-f978-8ed54183b7ae",
        "colab": {
          "base_uri": "https://localhost:8080/"
        }
      },
      "execution_count": 8,
      "outputs": [
        {
          "output_type": "execute_result",
          "data": {
            "text/plain": [
              "<tf.Tensor: shape=(5, 3, 2), dtype=int32, numpy=\n",
              "array([[[0, 1],\n",
              "        [2, 3],\n",
              "        [4, 5]],\n",
              "\n",
              "       [[0, 1],\n",
              "        [2, 3],\n",
              "        [4, 5]],\n",
              "\n",
              "       [[0, 1],\n",
              "        [2, 3],\n",
              "        [4, 5]],\n",
              "\n",
              "       [[0, 1],\n",
              "        [2, 3],\n",
              "        [4, 5]],\n",
              "\n",
              "       [[0, 1],\n",
              "        [2, 3],\n",
              "        [4, 5]]], dtype=int32)>"
            ]
          },
          "metadata": {},
          "execution_count": 8
        }
      ]
    },
    {
      "cell_type": "code",
      "source": [
        "## Two types of Variable Declarations\n",
        "const_tensor = tf.constant([[1,2,3],[4,5,6]])\n",
        "var_tensor = tf.Variable([[1,2,3],[4,5,6]])"
      ],
      "metadata": {
        "id": "cECTD_NnAs7j"
      },
      "execution_count": 11,
      "outputs": []
    }
  ]
}