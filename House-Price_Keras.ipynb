{
  "cells": [
    {
      "cell_type": "code",
      "execution_count": 15,
      "id": "bbcde453-fbc3-4b80-a663-01212599fa9c",
      "metadata": {
        "id": "bbcde453-fbc3-4b80-a663-01212599fa9c"
      },
      "outputs": [],
      "source": [
        "import pandas as pd\n",
        "import numpy as np\n",
        "from sklearn.preprocessing import StandardScaler\n",
        "from sklearn.metrics import accuracy_score"
      ]
    },
    {
      "cell_type": "markdown",
      "id": "173476da-ac46-435c-81bb-858825c1908d",
      "metadata": {
        "id": "173476da-ac46-435c-81bb-858825c1908d"
      },
      "source": [
        "## Part 1: Import the Housing data and do feature transformations"
      ]
    },
    {
      "cell_type": "code",
      "execution_count": 16,
      "id": "999b20bb-ff06-47ce-9824-3431ade3d628",
      "metadata": {
        "id": "999b20bb-ff06-47ce-9824-3431ade3d628",
        "outputId": "5f3b48c2-999c-4540-ab7a-c20f52d7d020",
        "colab": {
          "base_uri": "https://localhost:8080/",
          "height": 206
        }
      },
      "outputs": [
        {
          "output_type": "execute_result",
          "data": {
            "text/plain": [
              "   bedrooms  sqft_living    price\n",
              "0         3         1340   313000\n",
              "1         5         3650  2384000\n",
              "2         3         1930   342000\n",
              "3         3         2000   420000\n",
              "4         4         1940   550000"
            ],
            "text/html": [
              "\n",
              "  <div id=\"df-6e7cc9e4-f9f8-4ede-b3f4-0da1a00fc6fc\">\n",
              "    <div class=\"colab-df-container\">\n",
              "      <div>\n",
              "<style scoped>\n",
              "    .dataframe tbody tr th:only-of-type {\n",
              "        vertical-align: middle;\n",
              "    }\n",
              "\n",
              "    .dataframe tbody tr th {\n",
              "        vertical-align: top;\n",
              "    }\n",
              "\n",
              "    .dataframe thead th {\n",
              "        text-align: right;\n",
              "    }\n",
              "</style>\n",
              "<table border=\"1\" class=\"dataframe\">\n",
              "  <thead>\n",
              "    <tr style=\"text-align: right;\">\n",
              "      <th></th>\n",
              "      <th>bedrooms</th>\n",
              "      <th>sqft_living</th>\n",
              "      <th>price</th>\n",
              "    </tr>\n",
              "  </thead>\n",
              "  <tbody>\n",
              "    <tr>\n",
              "      <th>0</th>\n",
              "      <td>3</td>\n",
              "      <td>1340</td>\n",
              "      <td>313000</td>\n",
              "    </tr>\n",
              "    <tr>\n",
              "      <th>1</th>\n",
              "      <td>5</td>\n",
              "      <td>3650</td>\n",
              "      <td>2384000</td>\n",
              "    </tr>\n",
              "    <tr>\n",
              "      <th>2</th>\n",
              "      <td>3</td>\n",
              "      <td>1930</td>\n",
              "      <td>342000</td>\n",
              "    </tr>\n",
              "    <tr>\n",
              "      <th>3</th>\n",
              "      <td>3</td>\n",
              "      <td>2000</td>\n",
              "      <td>420000</td>\n",
              "    </tr>\n",
              "    <tr>\n",
              "      <th>4</th>\n",
              "      <td>4</td>\n",
              "      <td>1940</td>\n",
              "      <td>550000</td>\n",
              "    </tr>\n",
              "  </tbody>\n",
              "</table>\n",
              "</div>\n",
              "      <button class=\"colab-df-convert\" onclick=\"convertToInteractive('df-6e7cc9e4-f9f8-4ede-b3f4-0da1a00fc6fc')\"\n",
              "              title=\"Convert this dataframe to an interactive table.\"\n",
              "              style=\"display:none;\">\n",
              "        \n",
              "  <svg xmlns=\"http://www.w3.org/2000/svg\" height=\"24px\"viewBox=\"0 0 24 24\"\n",
              "       width=\"24px\">\n",
              "    <path d=\"M0 0h24v24H0V0z\" fill=\"none\"/>\n",
              "    <path d=\"M18.56 5.44l.94 2.06.94-2.06 2.06-.94-2.06-.94-.94-2.06-.94 2.06-2.06.94zm-11 1L8.5 8.5l.94-2.06 2.06-.94-2.06-.94L8.5 2.5l-.94 2.06-2.06.94zm10 10l.94 2.06.94-2.06 2.06-.94-2.06-.94-.94-2.06-.94 2.06-2.06.94z\"/><path d=\"M17.41 7.96l-1.37-1.37c-.4-.4-.92-.59-1.43-.59-.52 0-1.04.2-1.43.59L10.3 9.45l-7.72 7.72c-.78.78-.78 2.05 0 2.83L4 21.41c.39.39.9.59 1.41.59.51 0 1.02-.2 1.41-.59l7.78-7.78 2.81-2.81c.8-.78.8-2.07 0-2.86zM5.41 20L4 18.59l7.72-7.72 1.47 1.35L5.41 20z\"/>\n",
              "  </svg>\n",
              "      </button>\n",
              "      \n",
              "  <style>\n",
              "    .colab-df-container {\n",
              "      display:flex;\n",
              "      flex-wrap:wrap;\n",
              "      gap: 12px;\n",
              "    }\n",
              "\n",
              "    .colab-df-convert {\n",
              "      background-color: #E8F0FE;\n",
              "      border: none;\n",
              "      border-radius: 50%;\n",
              "      cursor: pointer;\n",
              "      display: none;\n",
              "      fill: #1967D2;\n",
              "      height: 32px;\n",
              "      padding: 0 0 0 0;\n",
              "      width: 32px;\n",
              "    }\n",
              "\n",
              "    .colab-df-convert:hover {\n",
              "      background-color: #E2EBFA;\n",
              "      box-shadow: 0px 1px 2px rgba(60, 64, 67, 0.3), 0px 1px 3px 1px rgba(60, 64, 67, 0.15);\n",
              "      fill: #174EA6;\n",
              "    }\n",
              "\n",
              "    [theme=dark] .colab-df-convert {\n",
              "      background-color: #3B4455;\n",
              "      fill: #D2E3FC;\n",
              "    }\n",
              "\n",
              "    [theme=dark] .colab-df-convert:hover {\n",
              "      background-color: #434B5C;\n",
              "      box-shadow: 0px 1px 3px 1px rgba(0, 0, 0, 0.15);\n",
              "      filter: drop-shadow(0px 1px 2px rgba(0, 0, 0, 0.3));\n",
              "      fill: #FFFFFF;\n",
              "    }\n",
              "  </style>\n",
              "\n",
              "      <script>\n",
              "        const buttonEl =\n",
              "          document.querySelector('#df-6e7cc9e4-f9f8-4ede-b3f4-0da1a00fc6fc button.colab-df-convert');\n",
              "        buttonEl.style.display =\n",
              "          google.colab.kernel.accessAllowed ? 'block' : 'none';\n",
              "\n",
              "        async function convertToInteractive(key) {\n",
              "          const element = document.querySelector('#df-6e7cc9e4-f9f8-4ede-b3f4-0da1a00fc6fc');\n",
              "          const dataTable =\n",
              "            await google.colab.kernel.invokeFunction('convertToInteractive',\n",
              "                                                     [key], {});\n",
              "          if (!dataTable) return;\n",
              "\n",
              "          const docLinkHtml = 'Like what you see? Visit the ' +\n",
              "            '<a target=\"_blank\" href=https://colab.research.google.com/notebooks/data_table.ipynb>data table notebook</a>'\n",
              "            + ' to learn more about interactive tables.';\n",
              "          element.innerHTML = '';\n",
              "          dataTable['output_type'] = 'display_data';\n",
              "          await google.colab.output.renderOutput(dataTable, element);\n",
              "          const docLink = document.createElement('div');\n",
              "          docLink.innerHTML = docLinkHtml;\n",
              "          element.appendChild(docLink);\n",
              "        }\n",
              "      </script>\n",
              "    </div>\n",
              "  </div>\n",
              "  "
            ]
          },
          "metadata": {},
          "execution_count": 16
        }
      ],
      "source": [
        "df= pd.read_csv('/content/drive/MyDrive/Colab Notebooks/house_price_full.csv')\n",
        "df.head()"
      ]
    },
    {
      "cell_type": "code",
      "execution_count": 17,
      "id": "9ac1d055-4622-4fc9-a2a3-d463bcf8befd",
      "metadata": {
        "id": "9ac1d055-4622-4fc9-a2a3-d463bcf8befd"
      },
      "outputs": [],
      "source": [
        "X = df.copy()\n",
        "# Remove target\n",
        "Y = X.pop('price')\n",
        "\n",
        "# perform a scaler transform of the input data\n",
        "scaler = StandardScaler()\n",
        "X = scaler.fit_transform(X)\n",
        "\n",
        "# perform log transformation of target variable (y Log Transformation?)\n",
        "Y = np.log(Y)"
      ]
    },
    {
      "cell_type": "code",
      "execution_count": 18,
      "id": "82b4c4a9-00c6-42d5-aede-b01c0faeb61a",
      "metadata": {
        "id": "82b4c4a9-00c6-42d5-aede-b01c0faeb61a",
        "outputId": "dbede5e6-ade9-4003-b79f-75ff2694ed7f",
        "colab": {
          "base_uri": "https://localhost:8080/",
          "height": 424
        }
      },
      "outputs": [
        {
          "output_type": "execute_result",
          "data": {
            "text/plain": [
              "            0         1\n",
              "0   -0.433198 -0.753258\n",
              "1    1.675735  1.457330\n",
              "2   -0.433198 -0.188649\n",
              "3   -0.433198 -0.121661\n",
              "4    0.621269 -0.179079\n",
              "..        ...       ...\n",
              "494  0.621269  0.873582\n",
              "495  1.675735  2.299459\n",
              "496 -0.433198 -0.724549\n",
              "497 -0.433198 -0.179079\n",
              "498 -0.433198 -1.040347\n",
              "\n",
              "[499 rows x 2 columns]"
            ],
            "text/html": [
              "\n",
              "  <div id=\"df-92dd4941-60a5-416d-bb39-5efad20a5c91\">\n",
              "    <div class=\"colab-df-container\">\n",
              "      <div>\n",
              "<style scoped>\n",
              "    .dataframe tbody tr th:only-of-type {\n",
              "        vertical-align: middle;\n",
              "    }\n",
              "\n",
              "    .dataframe tbody tr th {\n",
              "        vertical-align: top;\n",
              "    }\n",
              "\n",
              "    .dataframe thead th {\n",
              "        text-align: right;\n",
              "    }\n",
              "</style>\n",
              "<table border=\"1\" class=\"dataframe\">\n",
              "  <thead>\n",
              "    <tr style=\"text-align: right;\">\n",
              "      <th></th>\n",
              "      <th>0</th>\n",
              "      <th>1</th>\n",
              "    </tr>\n",
              "  </thead>\n",
              "  <tbody>\n",
              "    <tr>\n",
              "      <th>0</th>\n",
              "      <td>-0.433198</td>\n",
              "      <td>-0.753258</td>\n",
              "    </tr>\n",
              "    <tr>\n",
              "      <th>1</th>\n",
              "      <td>1.675735</td>\n",
              "      <td>1.457330</td>\n",
              "    </tr>\n",
              "    <tr>\n",
              "      <th>2</th>\n",
              "      <td>-0.433198</td>\n",
              "      <td>-0.188649</td>\n",
              "    </tr>\n",
              "    <tr>\n",
              "      <th>3</th>\n",
              "      <td>-0.433198</td>\n",
              "      <td>-0.121661</td>\n",
              "    </tr>\n",
              "    <tr>\n",
              "      <th>4</th>\n",
              "      <td>0.621269</td>\n",
              "      <td>-0.179079</td>\n",
              "    </tr>\n",
              "    <tr>\n",
              "      <th>...</th>\n",
              "      <td>...</td>\n",
              "      <td>...</td>\n",
              "    </tr>\n",
              "    <tr>\n",
              "      <th>494</th>\n",
              "      <td>0.621269</td>\n",
              "      <td>0.873582</td>\n",
              "    </tr>\n",
              "    <tr>\n",
              "      <th>495</th>\n",
              "      <td>1.675735</td>\n",
              "      <td>2.299459</td>\n",
              "    </tr>\n",
              "    <tr>\n",
              "      <th>496</th>\n",
              "      <td>-0.433198</td>\n",
              "      <td>-0.724549</td>\n",
              "    </tr>\n",
              "    <tr>\n",
              "      <th>497</th>\n",
              "      <td>-0.433198</td>\n",
              "      <td>-0.179079</td>\n",
              "    </tr>\n",
              "    <tr>\n",
              "      <th>498</th>\n",
              "      <td>-0.433198</td>\n",
              "      <td>-1.040347</td>\n",
              "    </tr>\n",
              "  </tbody>\n",
              "</table>\n",
              "<p>499 rows × 2 columns</p>\n",
              "</div>\n",
              "      <button class=\"colab-df-convert\" onclick=\"convertToInteractive('df-92dd4941-60a5-416d-bb39-5efad20a5c91')\"\n",
              "              title=\"Convert this dataframe to an interactive table.\"\n",
              "              style=\"display:none;\">\n",
              "        \n",
              "  <svg xmlns=\"http://www.w3.org/2000/svg\" height=\"24px\"viewBox=\"0 0 24 24\"\n",
              "       width=\"24px\">\n",
              "    <path d=\"M0 0h24v24H0V0z\" fill=\"none\"/>\n",
              "    <path d=\"M18.56 5.44l.94 2.06.94-2.06 2.06-.94-2.06-.94-.94-2.06-.94 2.06-2.06.94zm-11 1L8.5 8.5l.94-2.06 2.06-.94-2.06-.94L8.5 2.5l-.94 2.06-2.06.94zm10 10l.94 2.06.94-2.06 2.06-.94-2.06-.94-.94-2.06-.94 2.06-2.06.94z\"/><path d=\"M17.41 7.96l-1.37-1.37c-.4-.4-.92-.59-1.43-.59-.52 0-1.04.2-1.43.59L10.3 9.45l-7.72 7.72c-.78.78-.78 2.05 0 2.83L4 21.41c.39.39.9.59 1.41.59.51 0 1.02-.2 1.41-.59l7.78-7.78 2.81-2.81c.8-.78.8-2.07 0-2.86zM5.41 20L4 18.59l7.72-7.72 1.47 1.35L5.41 20z\"/>\n",
              "  </svg>\n",
              "      </button>\n",
              "      \n",
              "  <style>\n",
              "    .colab-df-container {\n",
              "      display:flex;\n",
              "      flex-wrap:wrap;\n",
              "      gap: 12px;\n",
              "    }\n",
              "\n",
              "    .colab-df-convert {\n",
              "      background-color: #E8F0FE;\n",
              "      border: none;\n",
              "      border-radius: 50%;\n",
              "      cursor: pointer;\n",
              "      display: none;\n",
              "      fill: #1967D2;\n",
              "      height: 32px;\n",
              "      padding: 0 0 0 0;\n",
              "      width: 32px;\n",
              "    }\n",
              "\n",
              "    .colab-df-convert:hover {\n",
              "      background-color: #E2EBFA;\n",
              "      box-shadow: 0px 1px 2px rgba(60, 64, 67, 0.3), 0px 1px 3px 1px rgba(60, 64, 67, 0.15);\n",
              "      fill: #174EA6;\n",
              "    }\n",
              "\n",
              "    [theme=dark] .colab-df-convert {\n",
              "      background-color: #3B4455;\n",
              "      fill: #D2E3FC;\n",
              "    }\n",
              "\n",
              "    [theme=dark] .colab-df-convert:hover {\n",
              "      background-color: #434B5C;\n",
              "      box-shadow: 0px 1px 3px 1px rgba(0, 0, 0, 0.15);\n",
              "      filter: drop-shadow(0px 1px 2px rgba(0, 0, 0, 0.3));\n",
              "      fill: #FFFFFF;\n",
              "    }\n",
              "  </style>\n",
              "\n",
              "      <script>\n",
              "        const buttonEl =\n",
              "          document.querySelector('#df-92dd4941-60a5-416d-bb39-5efad20a5c91 button.colab-df-convert');\n",
              "        buttonEl.style.display =\n",
              "          google.colab.kernel.accessAllowed ? 'block' : 'none';\n",
              "\n",
              "        async function convertToInteractive(key) {\n",
              "          const element = document.querySelector('#df-92dd4941-60a5-416d-bb39-5efad20a5c91');\n",
              "          const dataTable =\n",
              "            await google.colab.kernel.invokeFunction('convertToInteractive',\n",
              "                                                     [key], {});\n",
              "          if (!dataTable) return;\n",
              "\n",
              "          const docLinkHtml = 'Like what you see? Visit the ' +\n",
              "            '<a target=\"_blank\" href=https://colab.research.google.com/notebooks/data_table.ipynb>data table notebook</a>'\n",
              "            + ' to learn more about interactive tables.';\n",
              "          element.innerHTML = '';\n",
              "          dataTable['output_type'] = 'display_data';\n",
              "          await google.colab.output.renderOutput(dataTable, element);\n",
              "          const docLink = document.createElement('div');\n",
              "          docLink.innerHTML = docLinkHtml;\n",
              "          element.appendChild(docLink);\n",
              "        }\n",
              "      </script>\n",
              "    </div>\n",
              "  </div>\n",
              "  "
            ]
          },
          "metadata": {},
          "execution_count": 18
        }
      ],
      "source": [
        "df_scaled = pd.DataFrame(X)\n",
        "df_scaled"
      ]
    },
    {
      "cell_type": "code",
      "execution_count": 19,
      "id": "8034fbca-2081-4de3-9fd3-8e5d379b2cbf",
      "metadata": {
        "id": "8034fbca-2081-4de3-9fd3-8e5d379b2cbf",
        "outputId": "2ffc4f97-2758-4f2a-9d13-96fdf10a2670",
        "colab": {
          "base_uri": "https://localhost:8080/"
        }
      },
      "outputs": [
        {
          "output_type": "execute_result",
          "data": {
            "text/plain": [
              "0      12.653958\n",
              "1      14.684290\n",
              "2      12.742566\n",
              "3      12.948010\n",
              "4      13.217674\n",
              "         ...    \n",
              "494    13.380102\n",
              "495    13.764217\n",
              "496    12.128111\n",
              "497    12.721886\n",
              "498    12.254863\n",
              "Name: price, Length: 499, dtype: float64"
            ]
          },
          "metadata": {},
          "execution_count": 19
        }
      ],
      "source": [
        "Y"
      ]
    },
    {
      "cell_type": "markdown",
      "id": "754adc57-4f6c-4b96-a348-77bd82a4b304",
      "metadata": {
        "id": "754adc57-4f6c-4b96-a348-77bd82a4b304"
      },
      "source": [
        "## Part 2: Create Model Using `keras`\n",
        "\n",
        "![](https://github.com/clraghuram/tensor-flow-learning/blob/main/multiple_neurons.png?raw=1)"
      ]
    },
    {
      "cell_type": "markdown",
      "source": [
        "![image.png](\n",
        ")![image.png](data:image/png;base64,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)"
      ],
      "metadata": {
        "id": "CwO3E6pwL6GX"
      },
      "id": "CwO3E6pwL6GX"
    },
    {
      "cell_type": "code",
      "execution_count": 20,
      "id": "9e7e3de3-c446-4fbe-be67-08c1431450d5",
      "metadata": {
        "id": "9e7e3de3-c446-4fbe-be67-08c1431450d5"
      },
      "outputs": [],
      "source": [
        "from tensorflow import keras"
      ]
    },
    {
      "cell_type": "code",
      "execution_count": 21,
      "id": "7bf2231d-a13c-4e82-aae9-597b3caae6c0",
      "metadata": {
        "id": "7bf2231d-a13c-4e82-aae9-597b3caae6c0",
        "colab": {
          "base_uri": "https://localhost:8080/"
        },
        "outputId": "afa1ddc6-7fb5-42d8-ed1b-ddf4d6ad03b8"
      },
      "outputs": [
        {
          "output_type": "stream",
          "name": "stdout",
          "text": [
            "Model: \"sequential_2\"\n",
            "_________________________________________________________________\n",
            " Layer (type)                Output Shape              Param #   \n",
            "=================================================================\n",
            " dense_4 (Dense)             (None, 2)                 6         \n",
            "                                                                 \n",
            " dense_5 (Dense)             (None, 1)                 3         \n",
            "                                                                 \n",
            "=================================================================\n",
            "Total params: 9\n",
            "Trainable params: 9\n",
            "Non-trainable params: 0\n",
            "_________________________________________________________________\n"
          ]
        }
      ],
      "source": [
        "model = keras.Sequential(\n",
        "    [\n",
        "        keras.layers.Dense(\n",
        "            2, activation=\"sigmoid\", input_shape=(X.shape[-1],)\n",
        "        ),\n",
        "        keras.layers.Dense(1, activation=\"linear\")\n",
        "    ]\n",
        ")\n",
        "model.summary()"
      ]
    },
    {
      "cell_type": "markdown",
      "source": [
        "```python\n",
        "def random_init_params():\n",
        "    w1 = tf.Variable(tf.random.uniform((2, 2)))\n",
        "    b1 = tf.Variable(tf.random.uniform((1, 2)))\n",
        "    w2 = tf.Variable(tf.random.uniform((2, 1)))\n",
        "    b2 = tf.Variable(tf.random.uniform((1, 1)))\n",
        "    return w1,b1,w2,b2\n",
        "\n",
        "\n",
        "def forward_prop(x, w1, b1, w2, b2):\n",
        "    z1 = tf.matmul(x,w1) + b1\n",
        "    h1 = tf.math.sigmoid(z1)\n",
        "    z2 = tf.matmul(h1,w2) + b2\n",
        "    h2 = z2\n",
        "    return h2\n",
        "```"
      ],
      "metadata": {
        "id": "bkBxCgOdM6Cs"
      },
      "id": "bkBxCgOdM6Cs"
    },
    {
      "cell_type": "code",
      "execution_count": 22,
      "id": "867ac40d-01c2-4f93-8977-1a3a1b37b320",
      "metadata": {
        "id": "867ac40d-01c2-4f93-8977-1a3a1b37b320"
      },
      "outputs": [],
      "source": [
        "model.compile(\n",
        "    optimizer=keras.optimizers.SGD(), loss=\"mean_squared_error\"\n",
        ")"
      ]
    },
    {
      "cell_type": "markdown",
      "id": "78a51db7-4b84-4338-9745-ece25b503892",
      "metadata": {
        "id": "78a51db7-4b84-4338-9745-ece25b503892"
      },
      "source": [
        "```python\n",
        "def train(x, y, w1, b1, w2, b2):\n",
        "    y_true = y\n",
        "    with tf.GradientTape() as g:\n",
        "        y_pred = forward_prop(x, w1, b1, w2, b2)\n",
        "\n",
        "        # loss\n",
        "        loss = 0.5*(y_true - y_pred)** 2\n",
        "    \n",
        "    #Gradient calculation  \n",
        "    print(\"**************************************************\")\n",
        "    print(\"GRADIENTS\")\n",
        "    print(\"**************************************************\")\n",
        "    gw1, gb1, gw2, gb2 = g.gradient(loss, [w1, b1, w2, b2])\n",
        "    print(\" the gradient for 1st layer weights are:\\n\",gw1.numpy())\n",
        "    print(\"--------------------------------------------------\")\n",
        "    print(\" the gradient for 2nd layer weights are:\\n\",gw2.numpy())\n",
        "    print(\"--------------------------------------------------\")\n",
        "    print(\" the gradient for 1st layer bias are:\\n\",gb1.numpy())\n",
        "    print(\"--------------------------------------------------\")\n",
        "    print(\" the gradient for 2nd layer bias are:\\n\",gb2.numpy())\n",
        "    print(\"--------------------------------------------------\")\n",
        "\n",
        "    # Gradient descent:\n",
        "    lr=0.2\n",
        "    w1.assign_sub(lr*gw1)\n",
        "    b1.assign_sub(lr*gb1) \n",
        "    w2.assign_sub(lr*gw2)\n",
        "    b2.assign_sub(lr*gb2)\n",
        "    print(\"**************************************************\")\n",
        "    print(\"NEW UPDATES\")\n",
        "    print(\"**************************************************\")\n",
        "    print(\" the updated 1st layer weights are:\\n\",w1.numpy())\n",
        "    print(\"--------------------------------------------------\")\n",
        "    print(\" the updated 2nd layer weights are:\\n\",w2.numpy())\n",
        "    print(\"--------------------------------------------------\")\n",
        "    print(\" the updated 1st layer bias are:\\n\",b1.numpy())\n",
        "    print(\"--------------------------------------------------\")\n",
        "    print(\" the updated 2nd layer bias are:\\n\",b2.numpy())\n",
        "\n",
        "\n",
        "    return w1, b1, w2, b2,loss\n",
        "\n",
        "```"
      ]
    },
    {
      "cell_type": "code",
      "execution_count": 23,
      "id": "72ab0367-85da-46b9-bce9-4da2c72dfaa7",
      "metadata": {
        "id": "72ab0367-85da-46b9-bce9-4da2c72dfaa7",
        "outputId": "0bfa254a-e900-444c-e16e-44acd25ab11f",
        "colab": {
          "base_uri": "https://localhost:8080/"
        }
      },
      "outputs": [
        {
          "output_type": "stream",
          "name": "stdout",
          "text": [
            "Epoch 1/10\n",
            "16/16 [==============================] - 0s 2ms/step - loss: 82.3793\n",
            "Epoch 2/10\n",
            "16/16 [==============================] - 0s 2ms/step - loss: 15.8673\n",
            "Epoch 3/10\n",
            "16/16 [==============================] - 0s 2ms/step - loss: 2.3980\n",
            "Epoch 4/10\n",
            "16/16 [==============================] - 0s 2ms/step - loss: 0.4701\n",
            "Epoch 5/10\n",
            "16/16 [==============================] - 0s 2ms/step - loss: 0.2024\n",
            "Epoch 6/10\n",
            "16/16 [==============================] - 0s 2ms/step - loss: 0.1647\n",
            "Epoch 7/10\n",
            "16/16 [==============================] - 0s 2ms/step - loss: 0.1575\n",
            "Epoch 8/10\n",
            "16/16 [==============================] - 0s 2ms/step - loss: 0.1550\n",
            "Epoch 9/10\n",
            "16/16 [==============================] - 0s 2ms/step - loss: 0.1535\n",
            "Epoch 10/10\n",
            "16/16 [==============================] - 0s 2ms/step - loss: 0.1522\n"
          ]
        },
        {
          "output_type": "execute_result",
          "data": {
            "text/plain": [
              "<keras.callbacks.History at 0x7f56aee8a050>"
            ]
          },
          "metadata": {},
          "execution_count": 23
        }
      ],
      "source": [
        "model.fit(X,Y.values,epochs=10,batch_size=32)"
      ]
    },
    {
      "cell_type": "code",
      "execution_count": 24,
      "id": "ac6189a0-f5a7-48e3-9bbd-03f219c6ab2c",
      "metadata": {
        "id": "ac6189a0-f5a7-48e3-9bbd-03f219c6ab2c",
        "outputId": "dc7b58c6-8c6d-47e7-8139-f05809b8013d",
        "colab": {
          "base_uri": "https://localhost:8080/"
        }
      },
      "outputs": [
        {
          "output_type": "execute_result",
          "data": {
            "text/plain": [
              "array([12.858499 , 13.4830065, 13.035571 , 13.055024 , 13.089734 ,\n",
              "       12.622429 , 12.789006 , 13.27602  , 13.167663 , 12.972672 ,\n",
              "       12.972325 , 13.320974 , 13.142496 , 12.776095 , 13.348719 ,\n",
              "       12.81291  , 12.930374 , 13.359645 , 12.868085 , 12.806282 ,\n",
              "       13.119321 , 12.952026 , 12.984066 , 13.280404 , 12.995864 ,\n",
              "       13.079567 , 13.15011  , 13.156576 , 13.330596 , 13.209061 ,\n",
              "       12.984322 , 13.308372 , 13.057457 , 13.299863 , 13.456346 ,\n",
              "       13.350127 , 12.592428 , 13.012946 , 13.043947 , 13.157669 ,\n",
              "       12.933415 , 12.960916 , 12.611235 , 12.989896 , 12.7410965,\n",
              "       12.799624 , 13.046726 , 13.035571 , 12.83588  , 13.398377 ,\n",
              "       13.27602  , 13.28022  , 13.234941 , 12.9985895, 13.196465 ,\n",
              "       13.084418 , 13.154082 , 13.484652 , 12.852072 , 12.880575 ,\n",
              "       13.398377 , 13.227952 , 13.280404 , 13.194646 , 13.320974 ,\n",
              "       12.629852 , 12.954511 , 12.748764 , 13.17639  , 13.108859 ,\n",
              "       13.235566 , 13.266873 , 13.176313 , 13.027137 , 12.8552885,\n",
              "       12.761805 , 13.1490755, 13.280404 , 13.136453 , 13.18247  ,\n",
              "       13.102914 , 13.466689 , 13.141052 , 12.9985895, 13.190866 ,\n",
              "       13.02481  , 12.716602 , 12.902691 , 12.809102 , 12.737619 ,\n",
              "       13.400681 , 13.098295 , 13.372434 , 13.147578 , 12.927325 ,\n",
              "       13.314139 , 12.963449 , 13.383755 , 12.880768 , 13.539621 ,\n",
              "       13.373428 , 13.057777 , 12.8552885, 13.198064 , 13.104832 ,\n",
              "       13.318887 , 13.123676 , 13.568868 , 12.607489 , 12.888075 ,\n",
              "       12.934065 , 13.183617 , 12.762488 , 13.273712 , 13.108142 ,\n",
              "       12.90193  , 13.1167145, 12.596205 , 13.402538 , 12.960476 ,\n",
              "       13.097661 , 12.893337 , 14.045974 , 13.021481 , 13.021481 ,\n",
              "       12.880768 , 12.960916 , 12.716602 , 13.032766 , 13.318887 ,\n",
              "       13.350127 , 12.924271 , 13.157838 , 13.055679 , 12.924277 ,\n",
              "       13.181189 , 12.9985895, 13.108142 , 12.995698 , 13.214653 ,\n",
              "       13.03837  , 12.723638 , 13.41517  , 13.580268 , 12.930678 ,\n",
              "       12.945511 , 12.8801365, 13.308458 , 13.607232 , 12.867836 ,\n",
              "       13.217    , 12.94905  , 12.702442 , 12.861701 , 13.144044 ,\n",
              "       12.905794 , 13.055024 , 12.677377 , 12.561941 , 13.150428 ,\n",
              "       12.933415 , 13.133909 , 12.906658 , 12.948518 , 13.4096155,\n",
              "       13.076397 , 12.972672 , 12.629852 , 12.762488 , 12.832621 ,\n",
              "       13.470305 , 13.178754 , 13.297723 , 12.954511 , 12.951517 ,\n",
              "       13.012946 , 13.105531 , 12.880768 , 12.966807 , 13.175093 ,\n",
              "       12.748764 , 12.74803  , 13.188698 , 13.203543 , 13.217    ,\n",
              "       13.3576565, 13.121102 , 13.012946 , 13.062901 , 13.475185 ,\n",
              "       12.883921 , 12.911981 , 13.090307 , 13.431575 , 12.948518 ,\n",
              "       12.995698 , 13.105531 , 13.171415 , 13.34359  , 12.848848 ,\n",
              "       13.49839  , 13.478552 , 13.374182 , 13.348719 , 13.293368 ,\n",
              "       12.890056 , 13.37732  , 13.2694025, 12.822798 , 13.282588 ,\n",
              "       13.411471 , 12.782854 , 13.094431 , 13.027137 , 12.640932 ,\n",
              "       12.966414 , 12.883921 , 13.609867 , 13.049499 , 12.727144 ,\n",
              "       13.108859 , 12.674758 , 12.902691 , 13.344727 , 13.230288 ,\n",
              "       13.445663 , 12.83588  , 13.607232 , 13.345614 , 12.802957 ,\n",
              "       13.160296 , 12.741858 , 13.2123   , 13.585876 , 12.829353 ,\n",
              "       12.921208 , 12.939476 , 12.782854 , 13.010088 , 13.189793 ,\n",
              "       13.227952 , 13.54102  , 13.207578 , 13.029853 , 13.074158 ,\n",
              "       12.986984 , 12.963449 , 12.854984 , 13.509928 , 13.060182 ,\n",
              "       12.877607 , 13.018642 , 13.797123 , 12.68098  , 13.237258 ,\n",
              "       12.748764 , 12.933415 , 13.2515135, 13.032766 , 13.147578 ,\n",
              "       12.612204 , 13.230959 , 13.350127 , 13.175093 , 12.670148 ,\n",
              "       12.599974 , 13.244936 , 12.989896 , 12.789006 , 13.043947 ,\n",
              "       13.397433 , 13.143616 , 13.557336 , 13.183617 , 13.010141 ,\n",
              "       13.262736 , 13.076397 , 13.106228 , 13.063263 , 13.127102 ,\n",
              "       12.942497 , 12.577246 , 12.883742 , 12.948518 , 13.485059 ,\n",
              "       13.291191 , 13.03837  , 12.880768 , 12.7590685, 12.599974 ,\n",
              "       12.6335535, 13.517523 , 13.151582 , 12.939476 , 12.908891 ,\n",
              "       12.858499 , 13.015798 , 13.194646 , 12.68098  , 12.871266 ,\n",
              "       12.951517 , 13.366436 , 13.14152  , 12.986984 , 12.957497 ,\n",
              "       13.007224 , 13.159064 , 12.963865 , 12.832621 , 13.577308 ,\n",
              "       13.5016365, 12.720123 , 13.264073 , 13.242683 , 12.94129  ,\n",
              "       12.599974 , 12.851753 , 13.079567 , 13.396954 , 13.032642 ,\n",
              "       12.960476 , 13.24015  , 13.374182 , 12.829353 , 13.110746 ,\n",
              "       13.264964 , 12.659248 , 13.043947 , 12.561941 , 12.792374 ,\n",
              "       12.954661 , 13.1389885, 13.054726 , 13.050126 , 12.966414 ,\n",
              "       13.03837  , 13.18604  , 13.121102 , 13.417011 , 13.168957 ,\n",
              "       12.87444  , 12.688164 , 12.905794 , 13.224006 , 13.249423 ,\n",
              "       13.119321 , 13.032766 , 13.024312 , 13.168957 , 12.761805 ,\n",
              "       12.651945 , 13.394593 , 13.105531 , 12.673766 , 13.062901 ,\n",
              "       13.049499 , 13.476905 , 12.74803  , 13.176313 , 13.167663 ,\n",
              "       13.282426 , 13.176313 , 12.911981 , 12.727955 , 12.8096   ,\n",
              "       12.848848 , 13.326512 , 12.984066 , 12.852072 , 13.21934  ,\n",
              "       12.826079 , 12.832621 , 13.353139 , 13.488549 , 12.921208 ,\n",
              "       12.854984 , 12.896462 , 12.87444  , 13.218553 , 12.936449 ,\n",
              "       13.08175  , 13.059151 , 12.880768 , 12.705994 , 12.614973 ,\n",
              "       13.137389 , 12.673766 , 12.659248 , 13.552789 , 12.951517 ,\n",
              "       13.486894 , 13.293426 , 13.038202 , 12.946067 , 13.012946 ,\n",
              "       12.651945 , 13.180017 , 13.4768715, 13.2515135, 12.87444  ,\n",
              "       13.171415 , 13.221676 , 12.596205 , 13.010141 , 13.299869 ,\n",
              "       12.561941 , 12.87444  , 12.891772 , 12.945619 , 13.082261 ,\n",
              "       12.765901 , 12.908891 , 13.097661 , 12.880768 , 13.4718   ,\n",
              "       13.154082 , 13.032766 , 12.799624 , 13.748329 , 13.105531 ,\n",
              "       13.147317 , 13.454372 , 13.304128 , 12.720123 , 13.3576565,\n",
              "       12.883921 , 13.2123   , 13.08708  , 12.957497 , 12.877607 ,\n",
              "       13.264964 , 13.105531 , 13.1389885, 12.862341 , 12.984066 ,\n",
              "       13.222165 , 12.812426 , 13.089734 , 12.880768 , 12.864897 ,\n",
              "       12.819509 , 13.301998 , 13.481902 , 13.188457 , 13.412515 ,\n",
              "       12.957959 , 13.349648 , 12.755642 , 13.08708  , 12.9928   ,\n",
              "       13.055024 , 12.966414 , 13.691539 , 12.845616 , 13.205208 ,\n",
              "       12.720123 , 13.183617 , 13.280404 , 13.304128 , 12.673766 ,\n",
              "       12.858499 , 13.440525 , 13.865067 , 12.744623 , 13.378026 ,\n",
              "       13.090307 , 13.233265 , 13.089734 , 12.861701 , 13.146564 ,\n",
              "       12.868085 , 13.703801 , 13.301998 , 13.057777 , 13.396488 ,\n",
              "       12.74803  , 12.97527  , 12.500653 , 12.927325 , 13.199474 ,\n",
              "       13.618294 , 12.744567 , 13.4830065, 13.100945 , 13.237861 ,\n",
              "       12.6335535, 13.333388 , 13.136453 , 13.426148 , 13.258333 ,\n",
              "       13.108859 , 13.032642 , 13.282426 , 12.741858 , 13.345614 ,\n",
              "       13.612488 , 12.868085 , 13.03837  , 12.7590685], dtype=float32)"
            ]
          },
          "metadata": {},
          "execution_count": 24
        }
      ],
      "source": [
        "model.predict(X)[:,0]"
      ]
    },
    {
      "cell_type": "code",
      "execution_count": 24,
      "id": "e70387c2-c04d-4ff1-8bc1-a13a064daf6a",
      "metadata": {
        "id": "e70387c2-c04d-4ff1-8bc1-a13a064daf6a"
      },
      "outputs": [],
      "source": []
    }
  ],
  "metadata": {
    "kernelspec": {
      "display_name": "Python 3 (ipykernel)",
      "language": "python",
      "name": "python3"
    },
    "language_info": {
      "codemirror_mode": {
        "name": "ipython",
        "version": 3
      },
      "file_extension": ".py",
      "mimetype": "text/x-python",
      "name": "python",
      "nbconvert_exporter": "python",
      "pygments_lexer": "ipython3",
      "version": "3.9.9"
    },
    "colab": {
      "name": "nn_keras.ipynb",
      "provenance": []
    }
  },
  "nbformat": 4,
  "nbformat_minor": 5
}